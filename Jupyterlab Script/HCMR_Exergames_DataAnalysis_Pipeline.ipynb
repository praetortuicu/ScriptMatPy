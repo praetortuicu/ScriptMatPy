{
 "cells": [
  {
   "cell_type": "markdown",
   "metadata": {},
   "source": [
    "The **first version** of this Code has been written by:\n",
    "<br> **Valentin J. Oettinger** - Mail: Oettinger@stud.uni-heidelberg.de \n",
    "<br> Feel free to contact me if questions arise.\n",
    "<br> Further Editors please enter your names and contact below:\n",
    "<br> **Further Editors:**\n",
    "<br> **Julius Rominger** - Mail: J.rominger@stud.uni-heidelberg.de"
   ]
  },
  {
   "cell_type": "markdown",
   "metadata": {},
   "source": [
    "The code is currently fully functional using a Test Struct made my Susi Malheiros, which contains data of only two Subjects. The file is provided with the distribution message of this code.\n",
    "<br>In case of the data created with this script is used in a publication, make sure to credit appropirate packages."
   ]
  },
  {
   "cell_type": "code",
   "execution_count": 1,
   "metadata": {},
   "outputs": [],
   "source": [
    "import numpy as np\n",
    "import pandas as pd\n",
    "import matplotlib\n",
    "import matplotlib.pyplot as plt\n",
    "import h5py\n",
    "import xlsxwriter as xls\n",
    "import scipy.io as scipy\n",
    "\n",
    "from scipy.stats import chisquare\n",
    "from itertools import islice\n",
    "\n",
    "import time\n",
    "date = time.strftime(\"%d%m%Y\")\n",
    "\n",
    "\n",
    "%matplotlib inline"
   ]
  },
  {
   "cell_type": "markdown",
   "metadata": {
    "tags": []
   },
   "source": [
    "# <u> Data Import \n",
    "### Change to desired directory."
   ]
  },
  {
   "cell_type": "markdown",
   "metadata": {},
   "source": [
    "Here nothing else than a simple data import is happening. \n",
    "<br>The h5py package is used as it represents the type of the file that corresponds to .mat files. Note that h5py uses the python Dictionary Syntax.\n",
    "<br>Please also consult the respective documentation: https://docs.h5py.org/en/stable/\n",
    "<br>\n",
    "<br>**Future To-Do:**\n",
    "- Introduce some sort of context manager to save some memory space while running the script.\n",
    "- Import the Struct containing data of all Subjects\n",
    "- Change input directory to your personal dir."
   ]
  },
  {
   "cell_type": "code",
   "execution_count": 2,
   "metadata": {},
   "outputs": [],
   "source": [
    "#Data import of StrutTime w/o 'Data' directory\n",
    "Struct_noData = h5py.File('struct_withEventLog_withoutData.mat', 'r')\n",
    "Struct_youngData = h5py.File('Struct_YoungSubjects.mat', 'r')"
   ]
  },
  {
   "cell_type": "code",
   "execution_count": 3,
   "metadata": {},
   "outputs": [],
   "source": [
    "#The commands below let you see a very generic overview of the fields of each level of the Struct. They simply represent an insight.\n",
    "#BEWARE: It opens a huge window with literally every possible directory of the struct being displayed.\n",
    "#Remove # infront of desired command. To run.\n",
    "\n",
    "#names of fields\n",
    "#StructTime.visit(print)\n",
    "#StructTime2Sub.visit(print)\n",
    "\n",
    "#names of fields + data type\n",
    "#StructTime.visititems(lambda name,obj:print(name, obj)) #names, data type and shape of field\n",
    "#StructTime2Sub.visititems(lambda name,obj:print(name, obj)) "
   ]
  },
  {
   "cell_type": "markdown",
   "metadata": {},
   "source": [
    "# <u>Data Overview and Tools:"
   ]
  },
  {
   "cell_type": "markdown",
   "metadata": {},
   "source": [
    "In this section a few functions are defined that extract entries of the Struct that actually contain data of interest. \n",
    "<br>I.e. there are many directories in the Struct that do not contain anything, so they are of no use to us. If unsure what I mean by that, simply call one of the above .visit functions.\n",
    "<br>These functions are later used in the functions that compute the variables.\n",
    "<br>\n",
    "<br>**Future To-Do:**\n",
    "- Find a way how to correctly filter the Struct containing data of all Subjects. Using the below Syntax only allowed my to extract 9 of the 23 Subjects. \n",
    "\n",
    "**Hint:** I tried to find some property that would distinguish the \"Subject\" entries from the empty entries in the Struct, by looking at the type. However this does not seem to work for the \"full\" Struct."
   ]
  },
  {
   "cell_type": "code",
   "execution_count": 22,
   "metadata": {},
   "outputs": [],
   "source": [
    "'''OLD VERSION\n",
    "#Looping over the input Struct and extracing only entries that contain subject data.\n",
    "#Creating new dictionary filled with those data.\n",
    "\n",
    "sub_data = {}\n",
    "\n",
    "def get_subject_data(InputStruct):\n",
    "    for k, v in InputStruct['#refs#/'].items(): #Hint: I tried using the below 30 - 35 length condition. But that also didn't help.\n",
    "        if type(v) is h5py._hl.group.Group:\n",
    "            sub_data[k] = v\n",
    "'''"
   ]
  },
  {
   "cell_type": "code",
   "execution_count": 23,
   "metadata": {},
   "outputs": [],
   "source": [
    "'''OLD VERSION\n",
    "#Applying the get_subject_data fct. to the desired input struct:\n",
    "#get_subject_data(Struct_noData)\n",
    "get_subject_data(Struct_youngData)\n",
    "'''"
   ]
  },
  {
   "cell_type": "code",
   "execution_count": 31,
   "metadata": {},
   "outputs": [],
   "source": [
    "#Looping over the input Struct and extracing only entries that contain subject data.\n",
    "#Creating new dictionary filled with those data.\n",
    "\n",
    "sub_data = {}\n",
    "\n",
    "def get_subject_data(InputStruct):\n",
    "    for i, v in enumerate(InputStruct['Sub']):\n",
    "        #sub_data.append(InputStruct[v[0]])\n",
    "        sub_data[i] = InputStruct[v[0]]"
   ]
  },
  {
   "cell_type": "code",
   "execution_count": 32,
   "metadata": {},
   "outputs": [],
   "source": [
    "#Applying the get_subject_data fct. to the desired input struct:\n",
    "get_subject_data(Struct_youngData)"
   ]
  },
  {
   "cell_type": "code",
   "execution_count": 40,
   "metadata": {},
   "outputs": [],
   "source": [
    "#Fct. that returns nested dictionary containing only data of desired games\n",
    "#for each subject and dicitonary with empty entries for each subject. They will be filled later.\n",
    "#Call with list of desired game names in str format as input.\n",
    "\n",
    "game_data = {}\n",
    "\n",
    "def get_game_data(game_labels):\n",
    "    for subj, data in sub_data.items():\n",
    "        #if len(sub_data[subj]) == 35: #The '35' condition arises from 33 games + 2 meta data. You might need to tweak this.\n",
    "            game_data[subj] = {}\n",
    "            for game, data in sub_data[subj].items():\n",
    "                for lbl in game_labels:\n",
    "                    if lbl == game:\n",
    "                        game_data[subj][game]= data\n",
    "        #else:\n",
    "        #    continue"
   ]
  },
  {
   "cell_type": "code",
   "execution_count": 41,
   "metadata": {},
   "outputs": [],
   "source": [
    "#Fct. that returns nested dictionary containing only meta data of subjects\n",
    "\n",
    "subj_meta_data = {}\n",
    "def get_subj_meta_data(subject_data):\n",
    "    for subj, data in subject_data.items():\n",
    "        #if len(subject_data[subj]) == 35: #The '35' condition arises from 33 games + 2 meta data. You might need to tweak this.\n",
    "            subj_meta_data[subj] = {}\n",
    "            for key, data in subject_data[subj].items():\n",
    "                if key == 'sub_char':\n",
    "                    subj_meta_data[subj]['sub_char'] = data\n",
    "        #else:\n",
    "        #    continue"
   ]
  },
  {
   "cell_type": "markdown",
   "metadata": {
    "tags": []
   },
   "source": [
    "# <u>Computing Variables:"
   ]
  },
  {
   "cell_type": "markdown",
   "metadata": {},
   "source": [
    "In this section the actual variables of interest are computed. Some are computed for all games, some only for specific games. The below functions all use the same type of input. Namely a list that contains the names of the games (in str) that the variables need to be computed for. I.e. if you would like to know the game duration for all games, call the respective function with \"all_game_labels\" as input.\n",
    "<br> The functions all follow the same structure. They call the filtering functions from above, then index the data under certain conditions for each subject by using nested loops. Then something is computed after which the result is stored in a temporary dictionary 'variable_data', which is essential in creating the output files at the end of the script.\n",
    "<br>\n",
    "<br>The variable functions itself work as of right now. However depending on the input struct they might need to be adjusted slightly.\n",
    "<br>\n",
    "<br>**Note:** These game-label lists need to be manually edited in case some are missing. In adittion the functions only add to the 'variable_data' dictionary. This way it can be subsequently filled with variables throughout the further script.\n",
    "<br>**Note:** The functions account for NaN's by checking if there are any and if so, skipping them, resuming the calculation without them. The code does not indicate yet if NaN's were found.\n",
    "<br>\n",
    "<br>**Future To-Do:**\n",
    "- Add more functions computing other variables. For this use the same structure to make sure they are added to the output files at the end.\n",
    "- Use the below inputs or create new ones if needed.\n",
    "- If the conditions indicated in a certain function applies to the directory set by the game label, then you can use that game label as input of that function. Meaning you could also compute the sway path of the SRT game or FTBT i.e.\n",
    "- Create indication if NaN's were found in a certain data set. Maybe automatically labeling it accordingly.\n",
    "- Use 'contains' to select snippets of the game name as the selection criterion. This way not every single game has to be entered manually, but rather \"BT_\", \"FTBT1_\", and so on."
   ]
  },
  {
   "cell_type": "code",
   "execution_count": 42,
   "metadata": {},
   "outputs": [],
   "source": [
    "#Defining input list for games to analyse.\n",
    "\n",
    "all_game_labels = [\n",
    "    'BT_hi_001', 'BT_lo_001', 'BT_mid_001',\n",
    "    'FTBT1_hi_001', 'FTBT1_lo_001','FTBT1_mid_001',\n",
    "    'FTBT2_hi_001', 'FTBT2_lo_001','FTBT2_mid_001',\n",
    "    'FTBT3_hi_001', 'FTBT3_lo_001','FTBT3_mid_001',\n",
    "    'FTBT4_hi_001', 'FTBT4_lo_001','FTBT4_mid_001',\n",
    "    'SRT_hi_001', 'SRT_lo_001','SRT_mid_001',\n",
    "    'CRT_hi_001', 'CRT_lo_001','CRT_mid_001',\n",
    "    'TMT_A_hi_001', 'TMT_A_lo_001','TMT_A_mid_001',\n",
    "    'TMT_B_hi_001', 'TMT_B_lo_001', 'TMT_B_mid_001',\n",
    "    'SCFT_hi_001', 'SCFT_lo_001','SCFT_mid_001',\n",
    "    'CCFT_hi_001', 'CCFT_lo_001','CCFT_mid_001'\n",
    "                    ]\n",
    "\n",
    "BT_game_labels = ['BT_hi_001', 'BT_lo_001', 'BT_mid_001']\n",
    "\n",
    "FTBT_game_labels = ['FTBT1_hi_001', 'FTBT1_lo_001','FTBT1_mid_001',\n",
    "    'FTBT2_hi_001', 'FTBT2_lo_001','FTBT2_mid_001',\n",
    "    'FTBT3_hi_001', 'FTBT3_lo_001','FTBT3_mid_001',\n",
    "    'FTBT4_hi_001', 'FTBT4_lo_001','FTBT4_mid_001']\n",
    "\n",
    "SRT_game_labels = ['SRT_hi_001', 'SRT_lo_001','SRT_mid_001']\n",
    "\n",
    "CRT_game_labels = ['CRT_hi_001', 'CRT_lo_001','CRT_mid_001']\n",
    "\n",
    "TMT_game_labels = ['TMT_A_hi_001', 'TMT_A_lo_001','TMT_A_mid_001',\n",
    "                   'TMT_B_hi_001', 'TMT_B_lo_001', 'TMT_B_mid_001']\n",
    "\n",
    "SCFT_game_labels = ['SCFT_hi_001', 'SCFT_lo_001','SCFT_mid_001']\n",
    "\n",
    "CCFT_game_labels = ['CCFT_hi_001', 'CCFT_lo_001','CCFT_mid_001']"
   ]
  },
  {
   "cell_type": "code",
   "execution_count": 43,
   "metadata": {},
   "outputs": [],
   "source": [
    "#Initializing Dictionary that will hold all computed variable data.\n",
    "get_game_data(all_game_labels)\n",
    "\n",
    "variable_data = {}\n",
    "for subj, data in game_data.items():\n",
    "    variable_data[subj] = {}\n",
    "    for k, v in data.items():\n",
    "        variable_data[subj][k] = {}"
   ]
  },
  {
   "cell_type": "code",
   "execution_count": 48,
   "metadata": {},
   "outputs": [],
   "source": [
    "get_subj_meta_data(sub_data)\n",
    "#print(subj_meta_data)\n",
    "#print(subj_meta_data[1][\"sub_char\"][\"height\"][0])"
   ]
  },
  {
   "cell_type": "code",
   "execution_count": 69,
   "metadata": {},
   "outputs": [],
   "source": [
    "#Gamedata example\n",
    "#print(game_data[13][\"BT_hi_001\"][\"Game\"][\"cursorPos\"][0])"
   ]
  },
  {
   "cell_type": "markdown",
   "metadata": {},
   "source": [
    "## <u>General: "
   ]
  },
  {
   "cell_type": "markdown",
   "metadata": {
    "tags": []
   },
   "source": [
    "### Game Duration:"
   ]
  },
  {
   "cell_type": "code",
   "execution_count": 82,
   "metadata": {},
   "outputs": [],
   "source": [
    "#Defining a fct. that extracts the total game duration of any inputgame for each subject.\n",
    "#Based on Susis Calculations\n",
    "\n",
    "def compute_game_duration(game_labels): #unit: [ms]\n",
    "    get_game_data(game_labels)\n",
    "    for subj, game in game_data.items():\n",
    "        for game, data in game_data[subj].items():\n",
    "            duration = data['con_char']['game_duration_in_ms'][0][0]\n",
    "            variable_data[subj][game]['tot_game_duration_ms'] = duration"
   ]
  },
  {
   "cell_type": "markdown",
   "metadata": {
    "tags": []
   },
   "source": [
    "### Sway Path:"
   ]
  },
  {
   "cell_type": "code",
   "execution_count": 98,
   "metadata": {},
   "outputs": [],
   "source": [
    "#Defining a fct. that computes the total sway path of any inputgame, for each subject.\n",
    "#Based on cursor x/y - position values.\n",
    "\n",
    "def compute_sway_path(game_labels): #unit: [arbitrary length unit]\n",
    "    get_game_data(game_labels)\n",
    "    for subj, game in game_data.items():\n",
    "        for game, data in game_data[subj].items():\n",
    "            try:\n",
    "                path_temp = []\n",
    "                x = data['Game']['cursorPos'][0]\n",
    "                y = data['Game']['cursorPos'][1]\n",
    "                for i in np.arange(0, len(x)): #Checking for NaN's if there is one it is skipped.\n",
    "                    if np.isnan(x[i]) == True:\n",
    "                        pass\n",
    "                    elif np.isnan(y[i]) == True:\n",
    "                        pass\n",
    "                    else:\n",
    "                        path_temp.append(np.sqrt(x[i]**2 + y[i]**2))\n",
    "                tot_path = np.sum(path_temp) #total sway path of game\n",
    "                mean_path = np.sum(path_temp)/len(path_temp) #mean sway path of single iteration\n",
    "                stddev = np.nanstd(path_temp) #std.dev. from mean_path\n",
    "                variable_data[subj][game]['tot_sway_path_game'] = tot_path\n",
    "                variable_data[subj][game]['mean_sway_path_game'] = mean_path\n",
    "                variable_data[subj][game]['stddev_sway_path_game'] = stddev\n",
    "            except Exception as e:\n",
    "                print(\"Some error occured in the game \", game, \" of participant \", subj, \"!\")\n",
    "                continue"
   ]
  },
  {
   "cell_type": "code",
   "execution_count": 99,
   "metadata": {},
   "outputs": [
    {
     "name": "stdout",
     "output_type": "stream",
     "text": [
      "Some error occured in the game  SCFT_lo_001  of participant  0 !\n"
     ]
    }
   ],
   "source": [
    "#Computing the above for ALL games by simply calling the respective functions.\n",
    "#The input list needs to contain all games for which the above variables are desired.\n",
    "\n",
    "compute_game_duration(all_game_labels)\n",
    "compute_sway_path(all_game_labels)        #There is an error (for the first Participant, game SCFT_lo) -> There is no data for the cursor Position (see in the matlab file). I used try-catch for such cases"
   ]
  },
  {
   "cell_type": "markdown",
   "metadata": {},
   "source": [
    "## <u>Balance Task - BT"
   ]
  },
  {
   "cell_type": "markdown",
   "metadata": {
    "tags": []
   },
   "source": [
    "### Sway Area:"
   ]
  },
  {
   "cell_type": "code",
   "execution_count": 96,
   "metadata": {},
   "outputs": [],
   "source": [
    "#Defining a fct. that computes the sway area of the total game. \n",
    "#Based on 95% - confidence ellipse around the population mean (cursor position mean)\n",
    "#For a detailed documentation see Schubert et al., 2014\n",
    "\n",
    "#Eigenvalues\n",
    "def compute_sway_area(game_labels): #unit: [arbitrary area unit]\n",
    "    get_game_data(game_labels)\n",
    "    for subj, game in game_data.items():\n",
    "        for game, data in game_data[subj].items():\n",
    "            try:\n",
    "                x_temp = []\n",
    "                y_temp = []\n",
    "                path_temp = []\n",
    "                x = data['Game']['cursorPos'][0]\n",
    "                y = data['Game']['cursorPos'][1]\n",
    "                for i in np.arange(0, len(x)): #Checking for NaN's if there is one it is skipped.\n",
    "                    if np.isnan(x[i]) == True:\n",
    "                        pass\n",
    "                    elif np.isnan(y[i]) == True:\n",
    "                        pass\n",
    "                    else:\n",
    "                        x_temp.append(x[i])\n",
    "                        y_temp.append(y[i])\n",
    "                        path_temp.append(np.sqrt(x[i]**2 + y[i]**2))\n",
    "                cov_mat = np.cov(x_temp, y_temp) #Computing the covariance matrix of the cursor positions\n",
    "                x_var = cov_mat[0,0]\n",
    "                y_var = cov_mat[1,1]\n",
    "                xy_cov = cov_mat[0,1]\n",
    "                lam1 = 0.5 * (x_var + y_var + np.sqrt((x_var-y_var)**2 + 4*xy_cov**2)) #Eigenvalues of cursor\n",
    "                lam2 = 0.5 * (x_var + y_var - np.sqrt((x_var-y_var)**2 + 4*xy_cov**2)) #pos. cov. matrix.\n",
    "                x_chi2 = chisquare(np.abs(x_temp))\n",
    "                y_chi2 = chisquare(np.abs(y_temp))\n",
    "                CEA = np.pi * 1/len(path_temp) * (x_chi2[0]+y_chi2[0])/2 * np.sqrt(lam1*lam2) #95% Confidence Ellipse Area\n",
    "                PEA = np.pi * (x_chi2[0]+y_chi2[0])/2 * np.sqrt(lam1*lam2) #95% Prediction Ellipse Area\n",
    "                #CEA = np.pi * 1/len(x_temp) * 2.4478**2 * np.sqrt(lam1*lam2)\n",
    "\n",
    "                variable_data[subj][game]['sway_area_game_cea95'] = CEA\n",
    "                variable_data[subj][game]['sway_area_game_pea95'] = PEA\n",
    "            except Exception as e:\n",
    "                print(\"Some error occured in the game \", game, \" of participant \", subj, \"!\")\n",
    "                continue"
   ]
  },
  {
   "cell_type": "code",
   "execution_count": 100,
   "metadata": {},
   "outputs": [],
   "source": [
    "#Calling the above fct. for BT games only\n",
    "compute_sway_area(BT_game_labels)\n",
    "#variable_data"
   ]
  },
  {
   "cell_type": "markdown",
   "metadata": {
    "tags": []
   },
   "source": [
    "### Sway Velocity:"
   ]
  },
  {
   "cell_type": "code",
   "execution_count": 15,
   "metadata": {},
   "outputs": [],
   "source": [
    "#Defining a function that computes the mean sway velocity of a BT game.\n",
    "#It uses the mean sway path computed by \"compute_sway_path\"\n",
    "#as well as the duration of the respective game, provided by \"compute_game_duration\".\n",
    "\n",
    "def compute_sway_velocity(game_labels): #unit: [length/sec]\n",
    "    get_game_data(game_labels)\n",
    "    compute_sway_path(game_labels)\n",
    "    compute_game_duration(game_labels)\n",
    "    for subj, game in game_data.items():\n",
    "        for game, data in game_data[subj].items():\n",
    "            duration_s = variable_data[subj][game]['tot_game_duration_ms'] / 1000 #game duration in sec.\n",
    "            sway_vel = variable_data[subj][game]['tot_sway_path_game'] / duration_s\n",
    "            variable_data[subj][game]['mean_sway_velocity_game'] = sway_vel"
   ]
  },
  {
   "cell_type": "code",
   "execution_count": 16,
   "metadata": {},
   "outputs": [],
   "source": [
    "#Calling the above fct. for BT games only. Check new entries in 'variable_data' by removing the #\n",
    "compute_sway_velocity(BT_game_labels)\n",
    "#variable_data"
   ]
  },
  {
   "cell_type": "markdown",
   "metadata": {},
   "source": [
    "## <u>Follow-The-Ball Task - FTBT"
   ]
  },
  {
   "cell_type": "markdown",
   "metadata": {
    "tags": []
   },
   "source": [
    "### DistanceToBall:"
   ]
  },
  {
   "cell_type": "code",
   "execution_count": 17,
   "metadata": {},
   "outputs": [],
   "source": [
    "#Defining a function which computes different properties of the distance between the cursor and the ball.\n",
    "\n",
    "def compute_dist_to_ball(game_labels):\n",
    "    get_game_data(game_labels)\n",
    "    for subj in game_data.keys():\n",
    "        for game, data in game_data[subj].items():\n",
    "            single_dist = data['Game']['distancesToGoal'][0]\n",
    "            temp_dist = []\n",
    "            for i in np.arange(0, len(single_dist)): #Checking for NaN's if there is one it is skipped.\n",
    "                if np.isnan(single_dist[i]) == True:\n",
    "                    pass\n",
    "                else:\n",
    "                    temp_dist.append(single_dist[i])\n",
    "            tot_dist = np.sum(temp_dist) #total distance for entire game\n",
    "            mean_dist = np.sum(temp_dist)/len(temp_dist) #corresponding mean distance\n",
    "            min_dist = np.min(temp_dist) #minimum distance over entire game\n",
    "            max_dist = np.max(temp_dist) #maximum distance over entire game\n",
    "            stddev = np.nanstd(temp_dist) #std.dev. from mean ball dist.\n",
    "            variable_data[subj][game]['total_distance_to_ball_game'] = tot_dist\n",
    "            variable_data[subj][game]['mean_distance_to_ball_game'] = mean_dist\n",
    "            variable_data[subj][game]['min_distance_to_ball_game'] = min_dist\n",
    "            variable_data[subj][game]['max_distance_to_ball_game'] = max_dist\n",
    "            variable_data[subj][game]['stddev_distance_to_ball_game'] = stddev"
   ]
  },
  {
   "cell_type": "code",
   "execution_count": 18,
   "metadata": {
    "tags": []
   },
   "outputs": [],
   "source": [
    "#Calling the above fct.\n",
    "compute_dist_to_ball(FTBT_game_labels)\n",
    "#variable_data"
   ]
  },
  {
   "cell_type": "markdown",
   "metadata": {},
   "source": [
    "## <u>Simple Reaction Time Task - SRT"
   ]
  },
  {
   "cell_type": "markdown",
   "metadata": {},
   "source": [
    "## <u>Choice Reaction Time Task - CRT"
   ]
  },
  {
   "cell_type": "markdown",
   "metadata": {
    "tags": []
   },
   "source": [
    "## <u>Trail Making Task A/B - TMT A/B"
   ]
  },
  {
   "cell_type": "markdown",
   "metadata": {},
   "source": [
    "## <u>Simple Cognitive Flexibility Task - SCFT"
   ]
  },
  {
   "cell_type": "markdown",
   "metadata": {},
   "source": [
    "## <u>Complex Cognitive Flexibility Task - CCFT"
   ]
  },
  {
   "cell_type": "markdown",
   "metadata": {},
   "source": [
    "# <u>Output Files"
   ]
  },
  {
   "cell_type": "markdown",
   "metadata": {},
   "source": [
    "In this last section two outputs are created, with the current date appended to the file name.\n",
    "<br> One as a Matlab Struct and one as a Excel Sheet. Both make use of the beforehand created 'variable_data' dictionary. **Do not change** this unless needed. It is set up in a way that only the 'variable_data' dict. needs to contain all variables of interest for all subjects and follows the structure it does at the moment. The rest should work out from here.\n",
    "<br> To be honest a lot of the following was created using trial-and-error principle. So in case you do change it, make sure to save the below code as 'Raw'-type before applying changes. Also consult the documentation of the xlsxwriter package: https://xlsxwriter.readthedocs.io"
   ]
  },
  {
   "cell_type": "markdown",
   "metadata": {
    "tags": []
   },
   "source": [
    "## Matlab Struct"
   ]
  },
  {
   "cell_type": "code",
   "execution_count": 19,
   "metadata": {},
   "outputs": [],
   "source": [
    "#Extracting and sorting meta data of each subject.\n",
    "get_subj_meta_data(sub_data)\n",
    "SubjectID = []\n",
    "for subj in subj_meta_data.keys():\n",
    "    temp=[]\n",
    "    for i in np.arange(0,3):\n",
    "        temp.append(chr(subj_meta_data[subj]['sub_char']['subjectID'][i][0]))\n",
    "    SubjectID.append(''.join(temp))\n",
    "Age = [subj_meta_data[subj]['sub_char']['age'][0] for subj in subj_meta_data.keys()]\n",
    "Gender = [chr(subj_meta_data[subj]['sub_char']['gender'][0][0]) for subj in subj_meta_data.keys()]\n",
    "Weight = [subj_meta_data[subj]['sub_char']['weight'][0] for subj in subj_meta_data.keys()]\n",
    "Height = [subj_meta_data[subj]['sub_char']['height'][0] for subj in subj_meta_data.keys()]"
   ]
  },
  {
   "cell_type": "code",
   "execution_count": 20,
   "metadata": {},
   "outputs": [],
   "source": [
    "#Adding Meta Data of each subject to the respective variable data.\n",
    "\n",
    "for i in np.arange(0,len(subj_meta_data.keys())):\n",
    "    for ind, (subj,data) in enumerate(variable_data.items()):\n",
    "        if i == ind:\n",
    "            variable_data[subj]['SubjectID'] = SubjectID[i]\n",
    "            variable_data[subj]['Age'] = Age[i]\n",
    "            variable_data[subj]['Gender'] = Gender[i]\n",
    "            variable_data[subj]['Weight'] = Weight[i]\n",
    "            variable_data[subj]['Height'] = Height[i]\n",
    "        else:\n",
    "            continue"
   ]
  },
  {
   "cell_type": "code",
   "execution_count": null,
   "metadata": {},
   "outputs": [],
   "source": [
    "#Saving the data as a Matlab Struct\n",
    "\n",
    "StructVars = np.ndarray(shape=(1,len(sub_data.keys())), dtype=object)\n",
    "\n",
    "temp = []\n",
    "for i in np.arange(0, len(subj_meta_data.keys())):\n",
    "    for subj, (var,data) in enumerate(variable_data.items()):\n",
    "        if i == subj:\n",
    "            temp.append(data)\n",
    "        else:\n",
    "            continue\n",
    "StructVars = np.array(temp)\n",
    "\n",
    "scipy.savemat('output_files/StructVars_prelim_' + date + '.mat', {'StructVars_prelim':StructVars})"
   ]
  },
  {
   "cell_type": "markdown",
   "metadata": {
    "tags": []
   },
   "source": [
    "## Excel Sheet"
   ]
  },
  {
   "cell_type": "code",
   "execution_count": null,
   "metadata": {
    "tags": []
   },
   "outputs": [],
   "source": [
    "#Supplementary game label list:\n",
    "all_game_labels = BT_game_labels + FTBT_game_labels + SRT_game_labels + CRT_game_labels + TMT_game_labels + SCFT_game_labels+ CCFT_game_labels"
   ]
  },
  {
   "cell_type": "code",
   "execution_count": null,
   "metadata": {
    "tags": []
   },
   "outputs": [],
   "source": [
    "workbook = xls.Workbook('output_files/Exergames_vars_' + date + '.xlsx')\n",
    "workbook.set_properties({\n",
    "    'title': 'ExerGame Variables',\n",
    "    'company': 'Universität Heidelberg - HCMR',\n",
    "    'author': 'Valentin J. Oettinger',\n",
    "    'manager': 'Dr. Lizeth Sloot, Dr. Christian Werner',\n",
    "    'comments': 'Created with Python'})\n",
    "\n",
    "cell_head_format = workbook.add_format({'bold':True})\n",
    "cell_head_format.set_text_wrap()\n",
    "cell_format = workbook.add_format()\n",
    "cell_format.set_num_format('0.00')\n",
    "cell_format.set_shrink()\n",
    "\n",
    " \n",
    "for label in all_game_labels: #Adding a worksheet for each game                \n",
    "    worksheet = workbook.add_worksheet(label) \n",
    "    worksheet.write(0, 0, 'Subject_ID', cell_head_format)\n",
    "    row = 1\n",
    "    col = 1\n",
    "    for subj, entry in variable_data.items(): #Filling the fist column with Subject IDs\n",
    "        worksheet.write(row, 0, entry['SubjectID'])\n",
    "        row += 1\n",
    "        col += 1\n",
    "        \n",
    "    for subj, key in variable_data.items(): #Filling the first row with respective variable names:\n",
    "        row = 1\n",
    "        col = 1\n",
    "        for game, variables in key.items():\n",
    "            if game == label:\n",
    "                if isinstance(variables, dict):\n",
    "                    for name, data in variables.items():\n",
    "                        worksheet.write(0, col, name, cell_head_format)\n",
    "                        col += 1\n",
    "                else:\n",
    "                    continue\n",
    "            else:\n",
    "                continue\n",
    "        break\n",
    "    \n",
    "    row = 1\n",
    "    for subj, key in variable_data.items(): #Filling respective cells with corresponding data:\n",
    "        col = 1\n",
    "        for game, variables in key.items():\n",
    "            if game == label:\n",
    "                if isinstance(variables, dict):\n",
    "                    for name, data in variables.items():\n",
    "                        worksheet.write(row, col, data, cell_format)\n",
    "                        col += 1\n",
    "                else:\n",
    "                    continue\n",
    "            else:\n",
    "                continue\n",
    "            row += 1\n",
    "\n",
    "workbook.close()"
   ]
  }
 ],
 "metadata": {
  "kernelspec": {
   "display_name": "Python 3 (ipykernel)",
   "language": "python",
   "name": "python3"
  },
  "language_info": {
   "codemirror_mode": {
    "name": "ipython",
    "version": 3
   },
   "file_extension": ".py",
   "mimetype": "text/x-python",
   "name": "python",
   "nbconvert_exporter": "python",
   "pygments_lexer": "ipython3",
   "version": "3.9.5"
  }
 },
 "nbformat": 4,
 "nbformat_minor": 4
}
